{
 "cells": [
  {
   "cell_type": "markdown",
   "source": [
    "# Exploratory Data Analysis (EDA) - Xente Dataset\n",
    "\n",
    "Initial exploration of the Xente dataset for credit risk modeling."
   ]
  },
  {
   "cell_type": "code",
   "source": [
    "import pandas as pd\n",
    "import matplotlib.pyplot as plt\n",
    "import seaborn as sns\n",
    "\n",
    "# Load dataset\n",
    "df = pd.read_csv('data/raw/xente_dataset.csv')\n",
    "\n",
    "# Overview\n",
    "print(df.info())\n",
    "print(df.describe())\n",
    "\n",
    "# Numerical feature distribution\n",
    "sns.histplot(df['Amount'], bins=50)\n",
    "plt.title('Distribution of Amount')\n",
    "plt.show()\n",
    "\n",
    "# Categorical feature distribution\n",
    "sns.countplot(x='ProductCategory', data=df)\n",
    "plt.xticks(rotation=45)\n",
    "plt.title('Product Category Distribution')\n",
    "plt.show()\n",
    "\n",
    "# Correlation analysis\n",
    "sns.heatmap(df.corr(), annot=True, cmap='coolwarm')\n",
    "plt.title('Correlation Matrix')\n",
    "plt.show()"
   ],
   "execution_count": null,
   "outputs": []
  }
 ],
 "metadata": {
  "kernelspec": {
   "display_name": "Python 3",
   "language": "python",
   "name": "python3"
  }
 },
 "nbformat": 4,
 "nbformat_minor": 5
}
